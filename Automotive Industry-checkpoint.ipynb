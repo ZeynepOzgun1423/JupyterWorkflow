{
 "cells": [
  {
   "cell_type": "code",
   "execution_count": 3,
   "id": "76384372",
   "metadata": {},
   "outputs": [
    {
     "name": "stdout",
     "output_type": "stream",
     "text": [
      "C:\\Users\\zeyne\\Untitled Folder 4\n"
     ]
    }
   ],
   "source": [
    "\n",
    "import pandas as pd \n",
    "import os\n",
    "print(os.getcwd())\n"
   ]
  },
  {
   "cell_type": "code",
   "execution_count": 4,
   "id": "db5e6159",
   "metadata": {},
   "outputs": [],
   "source": [
    "Ford_df=pd.read_csv('Ford.csv')\n"
   ]
  },
  {
   "cell_type": "code",
   "execution_count": 5,
   "id": "19f08f2b",
   "metadata": {},
   "outputs": [],
   "source": [
    "Mercedes_df=pd.read_csv('Mercedes.csv')"
   ]
  },
  {
   "cell_type": "code",
   "execution_count": 6,
   "id": "2f12ec29",
   "metadata": {},
   "outputs": [],
   "source": [
    "Hyundai_df=pd.read_csv('Hyundai.csv')"
   ]
  },
  {
   "cell_type": "code",
   "execution_count": 7,
   "id": "7fd408f5",
   "metadata": {},
   "outputs": [
    {
     "data": {
      "text/html": [
       "<div>\n",
       "<style scoped>\n",
       "    .dataframe tbody tr th:only-of-type {\n",
       "        vertical-align: middle;\n",
       "    }\n",
       "\n",
       "    .dataframe tbody tr th {\n",
       "        vertical-align: top;\n",
       "    }\n",
       "\n",
       "    .dataframe thead th {\n",
       "        text-align: right;\n",
       "    }\n",
       "</style>\n",
       "<table border=\"1\" class=\"dataframe\">\n",
       "  <thead>\n",
       "    <tr style=\"text-align: right;\">\n",
       "      <th></th>\n",
       "      <th>Date</th>\n",
       "      <th>Open</th>\n",
       "      <th>High</th>\n",
       "      <th>Low</th>\n",
       "      <th>Close</th>\n",
       "      <th>Adj Close</th>\n",
       "      <th>Volume</th>\n",
       "    </tr>\n",
       "  </thead>\n",
       "  <tbody>\n",
       "    <tr>\n",
       "      <th>0</th>\n",
       "      <td>2022-10-04</td>\n",
       "      <td>11.96</td>\n",
       "      <td>12.37</td>\n",
       "      <td>11.94</td>\n",
       "      <td>12.36</td>\n",
       "      <td>11.242414</td>\n",
       "      <td>87629200</td>\n",
       "    </tr>\n",
       "    <tr>\n",
       "      <th>1</th>\n",
       "      <td>2022-10-05</td>\n",
       "      <td>12.38</td>\n",
       "      <td>12.56</td>\n",
       "      <td>12.13</td>\n",
       "      <td>12.51</td>\n",
       "      <td>11.378852</td>\n",
       "      <td>87919100</td>\n",
       "    </tr>\n",
       "    <tr>\n",
       "      <th>2</th>\n",
       "      <td>2022-10-06</td>\n",
       "      <td>12.36</td>\n",
       "      <td>12.63</td>\n",
       "      <td>12.19</td>\n",
       "      <td>12.36</td>\n",
       "      <td>11.242414</td>\n",
       "      <td>64531900</td>\n",
       "    </tr>\n",
       "    <tr>\n",
       "      <th>3</th>\n",
       "      <td>2022-10-07</td>\n",
       "      <td>12.18</td>\n",
       "      <td>12.30</td>\n",
       "      <td>12.00</td>\n",
       "      <td>12.20</td>\n",
       "      <td>11.096881</td>\n",
       "      <td>56494500</td>\n",
       "    </tr>\n",
       "    <tr>\n",
       "      <th>4</th>\n",
       "      <td>2022-10-10</td>\n",
       "      <td>11.47</td>\n",
       "      <td>11.55</td>\n",
       "      <td>11.20</td>\n",
       "      <td>11.36</td>\n",
       "      <td>10.332833</td>\n",
       "      <td>115548900</td>\n",
       "    </tr>\n",
       "  </tbody>\n",
       "</table>\n",
       "</div>"
      ],
      "text/plain": [
       "         Date   Open   High    Low  Close  Adj Close     Volume\n",
       "0  2022-10-04  11.96  12.37  11.94  12.36  11.242414   87629200\n",
       "1  2022-10-05  12.38  12.56  12.13  12.51  11.378852   87919100\n",
       "2  2022-10-06  12.36  12.63  12.19  12.36  11.242414   64531900\n",
       "3  2022-10-07  12.18  12.30  12.00  12.20  11.096881   56494500\n",
       "4  2022-10-10  11.47  11.55  11.20  11.36  10.332833  115548900"
      ]
     },
     "execution_count": 7,
     "metadata": {},
     "output_type": "execute_result"
    }
   ],
   "source": [
    "Ford_df.head()"
   ]
  },
  {
   "cell_type": "code",
   "execution_count": 8,
   "id": "9feea13c",
   "metadata": {},
   "outputs": [
    {
     "data": {
      "text/html": [
       "<div>\n",
       "<style scoped>\n",
       "    .dataframe tbody tr th:only-of-type {\n",
       "        vertical-align: middle;\n",
       "    }\n",
       "\n",
       "    .dataframe tbody tr th {\n",
       "        vertical-align: top;\n",
       "    }\n",
       "\n",
       "    .dataframe thead th {\n",
       "        text-align: right;\n",
       "    }\n",
       "</style>\n",
       "<table border=\"1\" class=\"dataframe\">\n",
       "  <thead>\n",
       "    <tr style=\"text-align: right;\">\n",
       "      <th></th>\n",
       "      <th>Date</th>\n",
       "      <th>Open</th>\n",
       "      <th>High</th>\n",
       "      <th>Low</th>\n",
       "      <th>Close</th>\n",
       "      <th>Adj Close</th>\n",
       "      <th>Volume</th>\n",
       "    </tr>\n",
       "  </thead>\n",
       "  <tbody>\n",
       "    <tr>\n",
       "      <th>0</th>\n",
       "      <td>2022-10-04</td>\n",
       "      <td>54.130001</td>\n",
       "      <td>55.169998</td>\n",
       "      <td>53.400002</td>\n",
       "      <td>55.000000</td>\n",
       "      <td>50.928825</td>\n",
       "      <td>2920928.0</td>\n",
       "    </tr>\n",
       "    <tr>\n",
       "      <th>1</th>\n",
       "      <td>2022-10-05</td>\n",
       "      <td>54.509998</td>\n",
       "      <td>54.549999</td>\n",
       "      <td>52.299999</td>\n",
       "      <td>53.009998</td>\n",
       "      <td>49.086128</td>\n",
       "      <td>2697461.0</td>\n",
       "    </tr>\n",
       "    <tr>\n",
       "      <th>2</th>\n",
       "      <td>2022-10-06</td>\n",
       "      <td>53.869999</td>\n",
       "      <td>54.419998</td>\n",
       "      <td>53.160000</td>\n",
       "      <td>53.840000</td>\n",
       "      <td>49.854691</td>\n",
       "      <td>2066809.0</td>\n",
       "    </tr>\n",
       "    <tr>\n",
       "      <th>3</th>\n",
       "      <td>2022-10-07</td>\n",
       "      <td>53.200001</td>\n",
       "      <td>53.700001</td>\n",
       "      <td>52.369999</td>\n",
       "      <td>52.610001</td>\n",
       "      <td>48.715736</td>\n",
       "      <td>2278524.0</td>\n",
       "    </tr>\n",
       "    <tr>\n",
       "      <th>4</th>\n",
       "      <td>2022-10-10</td>\n",
       "      <td>51.799999</td>\n",
       "      <td>53.439999</td>\n",
       "      <td>51.630001</td>\n",
       "      <td>52.049999</td>\n",
       "      <td>48.197189</td>\n",
       "      <td>2177491.0</td>\n",
       "    </tr>\n",
       "  </tbody>\n",
       "</table>\n",
       "</div>"
      ],
      "text/plain": [
       "         Date       Open       High        Low      Close  Adj Close  \\\n",
       "0  2022-10-04  54.130001  55.169998  53.400002  55.000000  50.928825   \n",
       "1  2022-10-05  54.509998  54.549999  52.299999  53.009998  49.086128   \n",
       "2  2022-10-06  53.869999  54.419998  53.160000  53.840000  49.854691   \n",
       "3  2022-10-07  53.200001  53.700001  52.369999  52.610001  48.715736   \n",
       "4  2022-10-10  51.799999  53.439999  51.630001  52.049999  48.197189   \n",
       "\n",
       "      Volume  \n",
       "0  2920928.0  \n",
       "1  2697461.0  \n",
       "2  2066809.0  \n",
       "3  2278524.0  \n",
       "4  2177491.0  "
      ]
     },
     "execution_count": 8,
     "metadata": {},
     "output_type": "execute_result"
    }
   ],
   "source": [
    "Mercedes_df.head()"
   ]
  },
  {
   "cell_type": "code",
   "execution_count": 9,
   "id": "5086f435",
   "metadata": {},
   "outputs": [
    {
     "data": {
      "text/html": [
       "<div>\n",
       "<style scoped>\n",
       "    .dataframe tbody tr th:only-of-type {\n",
       "        vertical-align: middle;\n",
       "    }\n",
       "\n",
       "    .dataframe tbody tr th {\n",
       "        vertical-align: top;\n",
       "    }\n",
       "\n",
       "    .dataframe thead th {\n",
       "        text-align: right;\n",
       "    }\n",
       "</style>\n",
       "<table border=\"1\" class=\"dataframe\">\n",
       "  <thead>\n",
       "    <tr style=\"text-align: right;\">\n",
       "      <th></th>\n",
       "      <th>Date</th>\n",
       "      <th>Open</th>\n",
       "      <th>High</th>\n",
       "      <th>Low</th>\n",
       "      <th>Close</th>\n",
       "      <th>Adj Close</th>\n",
       "      <th>Volume</th>\n",
       "    </tr>\n",
       "  </thead>\n",
       "  <tbody>\n",
       "    <tr>\n",
       "      <th>0</th>\n",
       "      <td>2022-10-04</td>\n",
       "      <td>31.950001</td>\n",
       "      <td>31.950001</td>\n",
       "      <td>30.809999</td>\n",
       "      <td>30.809999</td>\n",
       "      <td>30.809999</td>\n",
       "      <td>8600</td>\n",
       "    </tr>\n",
       "    <tr>\n",
       "      <th>1</th>\n",
       "      <td>2022-10-05</td>\n",
       "      <td>31.000000</td>\n",
       "      <td>31.920000</td>\n",
       "      <td>29.500000</td>\n",
       "      <td>30.750000</td>\n",
       "      <td>30.750000</td>\n",
       "      <td>3500</td>\n",
       "    </tr>\n",
       "    <tr>\n",
       "      <th>2</th>\n",
       "      <td>2022-10-06</td>\n",
       "      <td>30.950001</td>\n",
       "      <td>30.950001</td>\n",
       "      <td>29.950001</td>\n",
       "      <td>29.950001</td>\n",
       "      <td>29.950001</td>\n",
       "      <td>1400</td>\n",
       "    </tr>\n",
       "    <tr>\n",
       "      <th>3</th>\n",
       "      <td>2022-10-07</td>\n",
       "      <td>28.950001</td>\n",
       "      <td>30.100000</td>\n",
       "      <td>28.950001</td>\n",
       "      <td>30.100000</td>\n",
       "      <td>30.100000</td>\n",
       "      <td>8900</td>\n",
       "    </tr>\n",
       "    <tr>\n",
       "      <th>4</th>\n",
       "      <td>2022-10-10</td>\n",
       "      <td>29.000000</td>\n",
       "      <td>29.000000</td>\n",
       "      <td>29.000000</td>\n",
       "      <td>29.000000</td>\n",
       "      <td>29.000000</td>\n",
       "      <td>400</td>\n",
       "    </tr>\n",
       "  </tbody>\n",
       "</table>\n",
       "</div>"
      ],
      "text/plain": [
       "         Date       Open       High        Low      Close  Adj Close  Volume\n",
       "0  2022-10-04  31.950001  31.950001  30.809999  30.809999  30.809999    8600\n",
       "1  2022-10-05  31.000000  31.920000  29.500000  30.750000  30.750000    3500\n",
       "2  2022-10-06  30.950001  30.950001  29.950001  29.950001  29.950001    1400\n",
       "3  2022-10-07  28.950001  30.100000  28.950001  30.100000  30.100000    8900\n",
       "4  2022-10-10  29.000000  29.000000  29.000000  29.000000  29.000000     400"
      ]
     },
     "execution_count": 9,
     "metadata": {},
     "output_type": "execute_result"
    }
   ],
   "source": [
    "Hyundai_df.head()"
   ]
  },
  {
   "cell_type": "code",
   "execution_count": 10,
   "id": "d9966b9f",
   "metadata": {},
   "outputs": [],
   "source": [
    "#Calculation of Daily Returns\n",
    "dfs= [Mercedes_df, Hyundai_df, Ford_df]"
   ]
  },
  {
   "cell_type": "code",
   "execution_count": 11,
   "id": "e7d01757",
   "metadata": {},
   "outputs": [],
   "source": [
    "Ford_df['Daily Return']=(Ford_df['Adj Close']/Ford_df['Adj Close'].shift(1))-1"
   ]
  },
  {
   "cell_type": "code",
   "execution_count": 12,
   "id": "d03c7458",
   "metadata": {},
   "outputs": [
    {
     "data": {
      "text/plain": [
       "0           NaN\n",
       "1      0.012136\n",
       "2     -0.011990\n",
       "3     -0.012945\n",
       "4     -0.068853\n",
       "         ...   \n",
       "247    0.013721\n",
       "248   -0.011146\n",
       "249   -0.008857\n",
       "250   -0.019496\n",
       "251   -0.006628\n",
       "Name: Daily Return, Length: 252, dtype: float64"
      ]
     },
     "execution_count": 12,
     "metadata": {},
     "output_type": "execute_result"
    }
   ],
   "source": [
    "Ford_df['Daily Return']"
   ]
  },
  {
   "cell_type": "code",
   "execution_count": 13,
   "id": "6c87155b",
   "metadata": {},
   "outputs": [],
   "source": [
    "Hyundai_df['Daily Return']=(Hyundai_df['Adj Close']/Hyundai_df['Adj Close'].shift(1))-1"
   ]
  },
  {
   "cell_type": "code",
   "execution_count": 14,
   "id": "31b50b45",
   "metadata": {},
   "outputs": [
    {
     "data": {
      "text/plain": [
       "0           NaN\n",
       "1     -0.001947\n",
       "2     -0.026016\n",
       "3      0.005008\n",
       "4     -0.036545\n",
       "         ...   \n",
       "247    0.000000\n",
       "248    0.019922\n",
       "249    0.000000\n",
       "250   -0.005327\n",
       "251   -0.043611\n",
       "Name: Daily Return, Length: 252, dtype: float64"
      ]
     },
     "execution_count": 14,
     "metadata": {},
     "output_type": "execute_result"
    }
   ],
   "source": [
    "Hyundai_df['Daily Return']"
   ]
  },
  {
   "cell_type": "code",
   "execution_count": 15,
   "id": "c5f90cf6",
   "metadata": {},
   "outputs": [],
   "source": [
    "Mercedes_df['Daily Return']=(Mercedes_df['Adj Close']/Mercedes_df['Adj Close'].shift(1))-1"
   ]
  },
  {
   "cell_type": "code",
   "execution_count": 16,
   "id": "d5f72ee1",
   "metadata": {},
   "outputs": [
    {
     "data": {
      "text/plain": [
       "0           NaN\n",
       "1     -0.036182\n",
       "2      0.015657\n",
       "3     -0.022845\n",
       "4     -0.010644\n",
       "         ...   \n",
       "253    0.009654\n",
       "254    0.000000\n",
       "255   -0.004249\n",
       "256   -0.010364\n",
       "257    0.000000\n",
       "Name: Daily Return, Length: 258, dtype: float64"
      ]
     },
     "execution_count": 16,
     "metadata": {},
     "output_type": "execute_result"
    }
   ],
   "source": [
    "Mercedes_df['Daily Return']"
   ]
  },
  {
   "cell_type": "code",
   "execution_count": 17,
   "id": "76794baa",
   "metadata": {},
   "outputs": [],
   "source": [
    "Ford_df = Ford_df.dropna()\n",
    "Mercedes_df = Mercedes_df.dropna()\n",
    "Hyundai_df = Hyundai_df.dropna()"
   ]
  },
  {
   "cell_type": "code",
   "execution_count": 18,
   "id": "b4e91424",
   "metadata": {},
   "outputs": [
    {
     "name": "stdout",
     "output_type": "stream",
     "text": [
      "         Date  Daily Return\n",
      "1  2022-10-05      0.012136\n",
      "2  2022-10-06     -0.011990\n",
      "3  2022-10-07     -0.012945\n",
      "4  2022-10-10     -0.068853\n",
      "5  2022-10-11      0.017606\n"
     ]
    }
   ],
   "source": [
    "print(Ford_df[['Date', 'Daily Return']].head())"
   ]
  },
  {
   "cell_type": "code",
   "execution_count": 19,
   "id": "21b8a092",
   "metadata": {},
   "outputs": [
    {
     "name": "stdout",
     "output_type": "stream",
     "text": [
      "         Date  Daily Return\n",
      "1  2022-10-05     -0.036182\n",
      "2  2022-10-06      0.015657\n",
      "3  2022-10-07     -0.022845\n",
      "4  2022-10-10     -0.010644\n",
      "5  2022-10-11      0.015370\n"
     ]
    }
   ],
   "source": [
    "print(Mercedes_df[['Date', 'Daily Return']].head())"
   ]
  },
  {
   "cell_type": "code",
   "execution_count": 20,
   "id": "082bf4a4",
   "metadata": {},
   "outputs": [
    {
     "name": "stdout",
     "output_type": "stream",
     "text": [
      "         Date  Daily Return\n",
      "1  2022-10-05     -0.001947\n",
      "2  2022-10-06     -0.026016\n",
      "3  2022-10-07      0.005008\n",
      "4  2022-10-10     -0.036545\n",
      "5  2022-10-11     -0.065862\n"
     ]
    }
   ],
   "source": [
    "print(Hyundai_df[['Date', 'Daily Return']].head())"
   ]
  },
  {
   "cell_type": "code",
   "execution_count": null,
   "id": "b81cc565",
   "metadata": {},
   "outputs": [],
   "source": [
    "\n",
    "\n"
   ]
  },
  {
   "cell_type": "code",
   "execution_count": 27,
   "id": "6a7d94b8",
   "metadata": {},
   "outputs": [
    {
     "name": "stderr",
     "output_type": "stream",
     "text": [
      "C:\\Users\\zeyne\\AppData\\Local\\Temp\\ipykernel_10080\\4178664508.py:2: SettingWithCopyWarning: \n",
      "A value is trying to be set on a copy of a slice from a DataFrame.\n",
      "Try using .loc[row_indexer,col_indexer] = value instead\n",
      "\n",
      "See the caveats in the documentation: https://pandas.pydata.org/pandas-docs/stable/user_guide/indexing.html#returning-a-view-versus-a-copy\n",
      "  Ford_df['Ford Cumulative Returns'] = (1 + Ford_df['Daily Return']).cumprod()\n",
      "C:\\Users\\zeyne\\AppData\\Local\\Temp\\ipykernel_10080\\4178664508.py:3: SettingWithCopyWarning: \n",
      "A value is trying to be set on a copy of a slice from a DataFrame.\n",
      "Try using .loc[row_indexer,col_indexer] = value instead\n",
      "\n",
      "See the caveats in the documentation: https://pandas.pydata.org/pandas-docs/stable/user_guide/indexing.html#returning-a-view-versus-a-copy\n",
      "  Mercedes_df['Mercedes Cumulative Returns'] = (1 + Mercedes_df['Daily Return']).cumprod()\n",
      "C:\\Users\\zeyne\\AppData\\Local\\Temp\\ipykernel_10080\\4178664508.py:4: SettingWithCopyWarning: \n",
      "A value is trying to be set on a copy of a slice from a DataFrame.\n",
      "Try using .loc[row_indexer,col_indexer] = value instead\n",
      "\n",
      "See the caveats in the documentation: https://pandas.pydata.org/pandas-docs/stable/user_guide/indexing.html#returning-a-view-versus-a-copy\n",
      "  Hyundai_df['Hyundai Cumulative Returns'] = (1 + Hyundai_df['Daily Return']).cumprod()\n"
     ]
    }
   ],
   "source": [
    "\n",
    "\n",
    "# Calculate cumulative returns\n",
    "Ford_df['Ford Cumulative Returns'] = (1 + Ford_df['Daily Return']).cumprod()\n",
    "Mercedes_df['Mercedes Cumulative Returns'] = (1 + Mercedes_df['Daily Return']).cumprod()\n",
    "Hyundai_df['Hyundai Cumulative Returns'] = (1 + Hyundai_df['Daily Return']).cumprod()\n",
    "\n"
   ]
  },
  {
   "cell_type": "code",
   "execution_count": 30,
   "id": "e878f3d8",
   "metadata": {},
   "outputs": [
    {
     "data": {
      "text/plain": [
       "1      1.012136\n",
       "2      1.000000\n",
       "3      0.987055\n",
       "4      0.919094\n",
       "5      0.935275\n",
       "         ...   \n",
       "247    1.117198\n",
       "248    1.104745\n",
       "249    1.094961\n",
       "250    1.073613\n",
       "251    1.066497\n",
       "Name: Ford Cumulative Returns, Length: 251, dtype: float64"
      ]
     },
     "execution_count": 30,
     "metadata": {},
     "output_type": "execute_result"
    }
   ],
   "source": [
    "Ford_df['Ford Cumulative Returns'] \n",
    "\n",
    "\n"
   ]
  },
  {
   "cell_type": "code",
   "execution_count": 34,
   "id": "03838934",
   "metadata": {},
   "outputs": [],
   "source": [
    "# Calculate annualized returns\n",
    "ford_annual_return = ((1 + Ford_df['Daily Return'].mean()) ** 252) - 1\n",
    "mercedes_annual_return = ((1 + Mercedes_df['Daily Return'].mean()) ** 252) - 1\n",
    "hyundai_annual_return = ((1 + Hyundai_df['Daily Return'].mean()) ** 252) - 1\n",
    "\n"
   ]
  },
  {
   "cell_type": "code",
   "execution_count": 32,
   "id": "11484d8b",
   "metadata": {},
   "outputs": [
    {
     "data": {
      "text/plain": [
       "1      0.963818\n",
       "2      0.978909\n",
       "3      0.956545\n",
       "4      0.946364\n",
       "5      0.960909\n",
       "         ...   \n",
       "253    1.239288\n",
       "254    1.239288\n",
       "255    1.234022\n",
       "256    1.221232\n",
       "257    1.221232\n",
       "Name: Mercedes Cumulative Returns, Length: 247, dtype: float64"
      ]
     },
     "execution_count": 32,
     "metadata": {},
     "output_type": "execute_result"
    }
   ],
   "source": [
    "Mercedes_df['Mercedes Cumulative Returns']"
   ]
  },
  {
   "cell_type": "code",
   "execution_count": 33,
   "id": "11fc236a",
   "metadata": {},
   "outputs": [
    {
     "data": {
      "text/plain": [
       "1      0.998053\n",
       "2      0.972087\n",
       "3      0.976956\n",
       "4      0.941253\n",
       "5      0.879260\n",
       "         ...   \n",
       "247    1.254463\n",
       "248    1.279455\n",
       "249    1.279455\n",
       "250    1.272639\n",
       "251    1.217137\n",
       "Name: Hyundai Cumulative Returns, Length: 251, dtype: float64"
      ]
     },
     "execution_count": 33,
     "metadata": {},
     "output_type": "execute_result"
    }
   ],
   "source": [
    "Hyundai_df['Hyundai Cumulative Returns']"
   ]
  },
  {
   "cell_type": "code",
   "execution_count": 37,
   "id": "b1d8fac9",
   "metadata": {},
   "outputs": [
    {
     "data": {
      "text/plain": [
       "0.13278538868520418"
      ]
     },
     "execution_count": 37,
     "metadata": {},
     "output_type": "execute_result"
    }
   ],
   "source": [
    "ford_annual_return \n",
    "\n"
   ]
  },
  {
   "cell_type": "code",
   "execution_count": 38,
   "id": "ea98081f",
   "metadata": {},
   "outputs": [
    {
     "data": {
      "text/plain": [
       "0.26053932447389605"
      ]
     },
     "execution_count": 38,
     "metadata": {},
     "output_type": "execute_result"
    }
   ],
   "source": [
    "mercedes_annual_return"
   ]
  },
  {
   "cell_type": "code",
   "execution_count": 39,
   "id": "b6248bfd",
   "metadata": {},
   "outputs": [
    {
     "data": {
      "text/plain": [
       "0.29030235679117045"
      ]
     },
     "execution_count": 39,
     "metadata": {},
     "output_type": "execute_result"
    }
   ],
   "source": [
    "hyundai_annual_return"
   ]
  },
  {
   "cell_type": "code",
   "execution_count": 40,
   "id": "b9a1e38a",
   "metadata": {},
   "outputs": [],
   "source": [
    "\n",
    "# Calculate volatility (standard deviation of returns)\n",
    "ford_volatility = Ford_df['Daily Return'].std()\n",
    "mercedes_volatility = Mercedes_df['Daily Return'].std()\n",
    "hyundai_volatility = Hyundai_df['Daily Return'].std()\n"
   ]
  },
  {
   "cell_type": "code",
   "execution_count": 41,
   "id": "ba02b5a4",
   "metadata": {},
   "outputs": [
    {
     "data": {
      "text/plain": [
       "0.021816338930579528"
      ]
     },
     "execution_count": 41,
     "metadata": {},
     "output_type": "execute_result"
    }
   ],
   "source": [
    "ford_volatility"
   ]
  },
  {
   "cell_type": "code",
   "execution_count": 42,
   "id": "34db4710",
   "metadata": {},
   "outputs": [
    {
     "data": {
      "text/plain": [
       "0.014846492606578771"
      ]
     },
     "execution_count": 42,
     "metadata": {},
     "output_type": "execute_result"
    }
   ],
   "source": [
    "mercedes_volatility"
   ]
  },
  {
   "cell_type": "code",
   "execution_count": 43,
   "id": "868171ff",
   "metadata": {},
   "outputs": [
    {
     "data": {
      "text/plain": [
       "0.02145234643756229"
      ]
     },
     "execution_count": 43,
     "metadata": {},
     "output_type": "execute_result"
    }
   ],
   "source": [
    "hyundai_volatility"
   ]
  },
  {
   "cell_type": "code",
   "execution_count": 44,
   "id": "349eff27",
   "metadata": {},
   "outputs": [],
   "source": [
    "# Calculate Sharpe Ratio (assuming a risk-free rate of 0%)\n",
    "risk_free_rate = 0\n",
    "ford_sharpe_ratio = (ford_annual_return - risk_free_rate) / ford_volatility\n",
    "mercedes_sharpe_ratio = (mercedes_annual_return - risk_free_rate) / mercedes_volatility\n",
    "hyundai_sharpe_ratio = (hyundai_annual_return - risk_free_rate) / hyundai_volatility"
   ]
  },
  {
   "cell_type": "code",
   "execution_count": 45,
   "id": "79ddedf8",
   "metadata": {},
   "outputs": [
    {
     "data": {
      "text/plain": [
       "6.086511082713403"
      ]
     },
     "execution_count": 45,
     "metadata": {},
     "output_type": "execute_result"
    }
   ],
   "source": [
    "ford_sharpe_ratio"
   ]
  },
  {
   "cell_type": "code",
   "execution_count": 46,
   "id": "b49afdb3",
   "metadata": {},
   "outputs": [
    {
     "data": {
      "text/plain": [
       "17.548880491709266"
      ]
     },
     "execution_count": 46,
     "metadata": {},
     "output_type": "execute_result"
    }
   ],
   "source": [
    "mercedes_sharpe_ratio"
   ]
  },
  {
   "cell_type": "code",
   "execution_count": 47,
   "id": "828bf004",
   "metadata": {},
   "outputs": [
    {
     "data": {
      "text/plain": [
       "13.532429081177872"
      ]
     },
     "execution_count": 47,
     "metadata": {},
     "output_type": "execute_result"
    }
   ],
   "source": [
    "hyundai_sharpe_ratio"
   ]
  },
  {
   "cell_type": "code",
   "execution_count": 49,
   "id": "0937a698",
   "metadata": {},
   "outputs": [
    {
     "data": {
      "image/png": "[encoded data removed]",
      "text/plain": [
       "<Figure size 1000x600 with 1 Axes>"
      ]
     },
     "metadata": {},
     "output_type": "display_data"
    }
   ],
   "source": [
    "import matplotlib.pyplot as plt\n",
    "\n",
    "companies = ['Ford', 'Mercedes', 'Hyundai']\n",
    "volatilities = [ford_volatility, mercedes_volatility, hyundai_volatility]\n",
    "\n",
    "plt.figure(figsize=(10, 6))\n",
    "plt.bar(companies, volatilities, color=['blue', 'green', 'red'])\n",
    "plt.xlabel('Companies')\n",
    "plt.ylabel('Volatility')\n",
    "plt.title('Volatility Comparison')\n",
    "plt.show()\n"
   ]
  },
  {
   "cell_type": "code",
   "execution_count": 50,
   "id": "dd5ee46d",
   "metadata": {},
   "outputs": [
    {
     "ename": "ValueError",
     "evalue": "x and y must have same first dimension, but have shapes (4,) and (3,)",
     "output_type": "error",
     "traceback": [
      "\u001b[1;31m---------------------------------------------------------------------------\u001b[0m",
      "\u001b[1;31mValueError\u001b[0m                                Traceback (most recent call last)",
      "\u001b[1;32m~\\AppData\\Local\\Temp\\ipykernel_10080\\504584781.py\u001b[0m in \u001b[0;36m<module>\u001b[1;34m\u001b[0m\n\u001b[0;32m     15\u001b[0m \u001b[1;33m\u001b[0m\u001b[0m\n\u001b[0;32m     16\u001b[0m \u001b[1;31m# Plot data on the radar chart\u001b[0m\u001b[1;33m\u001b[0m\u001b[1;33m\u001b[0m\u001b[0m\n\u001b[1;32m---> 17\u001b[1;33m \u001b[0max\u001b[0m\u001b[1;33m.\u001b[0m\u001b[0mfill\u001b[0m\u001b[1;33m(\u001b[0m\u001b[0mangles\u001b[0m\u001b[1;33m,\u001b[0m \u001b[0msharpe_ratios\u001b[0m\u001b[1;33m,\u001b[0m \u001b[1;34m'b'\u001b[0m\u001b[1;33m,\u001b[0m \u001b[0malpha\u001b[0m\u001b[1;33m=\u001b[0m\u001b[1;36m0.1\u001b[0m\u001b[1;33m)\u001b[0m\u001b[1;33m\u001b[0m\u001b[1;33m\u001b[0m\u001b[0m\n\u001b[0m\u001b[0;32m     18\u001b[0m \u001b[0max\u001b[0m\u001b[1;33m.\u001b[0m\u001b[0mset_yticklabels\u001b[0m\u001b[1;33m(\u001b[0m\u001b[1;33m[\u001b[0m\u001b[1;33m]\u001b[0m\u001b[1;33m)\u001b[0m\u001b[1;33m\u001b[0m\u001b[1;33m\u001b[0m\u001b[0m\n\u001b[0;32m     19\u001b[0m \u001b[0max\u001b[0m\u001b[1;33m.\u001b[0m\u001b[0mset_xticks\u001b[0m\u001b[1;33m(\u001b[0m\u001b[0mangles\u001b[0m\u001b[1;33m[\u001b[0m\u001b[1;33m:\u001b[0m\u001b[1;33m-\u001b[0m\u001b[1;36m1\u001b[0m\u001b[1;33m]\u001b[0m\u001b[1;33m)\u001b[0m\u001b[1;33m\u001b[0m\u001b[1;33m\u001b[0m\u001b[0m\n",
      "\u001b[1;32m~\\anaconda3\\lib\\site-packages\\matplotlib\\axes\\_axes.py\u001b[0m in \u001b[0;36mfill\u001b[1;34m(self, data, *args, **kwargs)\u001b[0m\n\u001b[0;32m   5044\u001b[0m         \u001b[0mkwargs\u001b[0m \u001b[1;33m=\u001b[0m \u001b[0mcbook\u001b[0m\u001b[1;33m.\u001b[0m\u001b[0mnormalize_kwargs\u001b[0m\u001b[1;33m(\u001b[0m\u001b[0mkwargs\u001b[0m\u001b[1;33m,\u001b[0m \u001b[0mmlines\u001b[0m\u001b[1;33m.\u001b[0m\u001b[0mLine2D\u001b[0m\u001b[1;33m)\u001b[0m\u001b[1;33m\u001b[0m\u001b[1;33m\u001b[0m\u001b[0m\n\u001b[0;32m   5045\u001b[0m         \u001b[1;31m# _get_patches_for_fill returns a generator, convert it to a list.\u001b[0m\u001b[1;33m\u001b[0m\u001b[1;33m\u001b[0m\u001b[0m\n\u001b[1;32m-> 5046\u001b[1;33m         \u001b[0mpatches\u001b[0m \u001b[1;33m=\u001b[0m \u001b[1;33m[\u001b[0m\u001b[1;33m*\u001b[0m\u001b[0mself\u001b[0m\u001b[1;33m.\u001b[0m\u001b[0m_get_patches_for_fill\u001b[0m\u001b[1;33m(\u001b[0m\u001b[1;33m*\u001b[0m\u001b[0margs\u001b[0m\u001b[1;33m,\u001b[0m \u001b[0mdata\u001b[0m\u001b[1;33m=\u001b[0m\u001b[0mdata\u001b[0m\u001b[1;33m,\u001b[0m \u001b[1;33m**\u001b[0m\u001b[0mkwargs\u001b[0m\u001b[1;33m)\u001b[0m\u001b[1;33m]\u001b[0m\u001b[1;33m\u001b[0m\u001b[1;33m\u001b[0m\u001b[0m\n\u001b[0m\u001b[0;32m   5047\u001b[0m         \u001b[1;32mfor\u001b[0m \u001b[0mpoly\u001b[0m \u001b[1;32min\u001b[0m \u001b[0mpatches\u001b[0m\u001b[1;33m:\u001b[0m\u001b[1;33m\u001b[0m\u001b[1;33m\u001b[0m\u001b[0m\n\u001b[0;32m   5048\u001b[0m             \u001b[0mself\u001b[0m\u001b[1;33m.\u001b[0m\u001b[0madd_patch\u001b[0m\u001b[1;33m(\u001b[0m\u001b[0mpoly\u001b[0m\u001b[1;33m)\u001b[0m\u001b[1;33m\u001b[0m\u001b[1;33m\u001b[0m\u001b[0m\n",
      "\u001b[1;32m~\\anaconda3\\lib\\site-packages\\matplotlib\\axes\\_base.py\u001b[0m in \u001b[0;36m__call__\u001b[1;34m(self, data, *args, **kwargs)\u001b[0m\n\u001b[0;32m    310\u001b[0m                 \u001b[0mthis\u001b[0m \u001b[1;33m+=\u001b[0m \u001b[0margs\u001b[0m\u001b[1;33m[\u001b[0m\u001b[1;36m0\u001b[0m\u001b[1;33m]\u001b[0m\u001b[1;33m,\u001b[0m\u001b[1;33m\u001b[0m\u001b[1;33m\u001b[0m\u001b[0m\n\u001b[0;32m    311\u001b[0m                 \u001b[0margs\u001b[0m \u001b[1;33m=\u001b[0m \u001b[0margs\u001b[0m\u001b[1;33m[\u001b[0m\u001b[1;36m1\u001b[0m\u001b[1;33m:\u001b[0m\u001b[1;33m]\u001b[0m\u001b[1;33m\u001b[0m\u001b[1;33m\u001b[0m\u001b[0m\n\u001b[1;32m--> 312\u001b[1;33m             \u001b[1;32myield\u001b[0m \u001b[1;32mfrom\u001b[0m \u001b[0mself\u001b[0m\u001b[1;33m.\u001b[0m\u001b[0m_plot_args\u001b[0m\u001b[1;33m(\u001b[0m\u001b[0mthis\u001b[0m\u001b[1;33m,\u001b[0m \u001b[0mkwargs\u001b[0m\u001b[1;33m)\u001b[0m\u001b[1;33m\u001b[0m\u001b[1;33m\u001b[0m\u001b[0m\n\u001b[0m\u001b[0;32m    313\u001b[0m \u001b[1;33m\u001b[0m\u001b[0m\n\u001b[0;32m    314\u001b[0m     \u001b[1;32mdef\u001b[0m \u001b[0mget_next_color\u001b[0m\u001b[1;33m(\u001b[0m\u001b[0mself\u001b[0m\u001b[1;33m)\u001b[0m\u001b[1;33m:\u001b[0m\u001b[1;33m\u001b[0m\u001b[1;33m\u001b[0m\u001b[0m\n",
      "\u001b[1;32m~\\anaconda3\\lib\\site-packages\\matplotlib\\axes\\_base.py\u001b[0m in \u001b[0;36m_plot_args\u001b[1;34m(self, tup, kwargs, return_kwargs)\u001b[0m\n\u001b[0;32m    496\u001b[0m \u001b[1;33m\u001b[0m\u001b[0m\n\u001b[0;32m    497\u001b[0m         \u001b[1;32mif\u001b[0m \u001b[0mx\u001b[0m\u001b[1;33m.\u001b[0m\u001b[0mshape\u001b[0m\u001b[1;33m[\u001b[0m\u001b[1;36m0\u001b[0m\u001b[1;33m]\u001b[0m \u001b[1;33m!=\u001b[0m \u001b[0my\u001b[0m\u001b[1;33m.\u001b[0m\u001b[0mshape\u001b[0m\u001b[1;33m[\u001b[0m\u001b[1;36m0\u001b[0m\u001b[1;33m]\u001b[0m\u001b[1;33m:\u001b[0m\u001b[1;33m\u001b[0m\u001b[1;33m\u001b[0m\u001b[0m\n\u001b[1;32m--> 498\u001b[1;33m             raise ValueError(f\"x and y must have same first dimension, but \"\n\u001b[0m\u001b[0;32m    499\u001b[0m                              f\"have shapes {x.shape} and {y.shape}\")\n\u001b[0;32m    500\u001b[0m         \u001b[1;32mif\u001b[0m \u001b[0mx\u001b[0m\u001b[1;33m.\u001b[0m\u001b[0mndim\u001b[0m \u001b[1;33m>\u001b[0m \u001b[1;36m2\u001b[0m \u001b[1;32mor\u001b[0m \u001b[0my\u001b[0m\u001b[1;33m.\u001b[0m\u001b[0mndim\u001b[0m \u001b[1;33m>\u001b[0m \u001b[1;36m2\u001b[0m\u001b[1;33m:\u001b[0m\u001b[1;33m\u001b[0m\u001b[1;33m\u001b[0m\u001b[0m\n",
      "\u001b[1;31mValueError\u001b[0m: x and y must have same first dimension, but have shapes (4,) and (3,)"
     ]
    },
    {
     "data": {
      "image/png": "[encoded data removed]",
      "text/plain": [
       "<Figure size 640x640 with 1 Axes>"
      ]
     },
     "metadata": {},
     "output_type": "display_data"
    }
   ],
   "source": [
    "import matplotlib.pyplot as plt\n",
    "import numpy as np\n",
    "\n",
    "# Create data for the radar chart\n",
    "categories = ['Ford', 'Mercedes', 'Hyundai']\n",
    "sharpe_ratios = [ford_sharpe_ratio, mercedes_sharpe_ratio, hyundai_sharpe_ratio]\n",
    "\n",
    "# Define angles for radar chart\n",
    "angles = np.linspace(0, 2 * np.pi, len(categories), endpoint=False).tolist()\n",
    "angles += angles[:1]\n",
    "\n",
    "# Create a figure with polar projection\n",
    "plt.figure(figsize=(8, 8), dpi=80)\n",
    "ax = plt.subplot(111, polar=True)\n",
    "\n",
    "# Plot data on the radar chart\n",
    "ax.fill(angles, sharpe_ratios, 'b', alpha=0.1)\n",
    "ax.set_yticklabels([])\n",
    "ax.set_xticks(angles[:-1])\n",
    "ax.set_xticklabels(categories)\n",
    "\n",
    "# Add a title\n",
    "plt.title('Sharpe Ratio Radar Chart')\n",
    "\n",
    "# Display the radar chart\n",
    "plt.show()\n"
   ]
  },
  {
   "cell_type": "code",
   "execution_count": null,
   "id": "3cdaf7da",
   "metadata": {},
   "outputs": [],
   "source": []
  }
 ],
 "metadata": {
  "kernelspec": {
   "display_name": "Python 3 (ipykernel)",
   "language": "python",
   "name": "python3"
  },
  "language_info": {
   "codemirror_mode": {
    "name": "ipython",
    "version": 3
   },
   "file_extension": ".py",
   "mimetype": "text/x-python",
   "name": "python",
   "nbconvert_exporter": "python",
   "pygments_lexer": "ipython3",
   "version": "3.9.13"
  }
 },
 "nbformat": 4,
 "nbformat_minor": 5
}
